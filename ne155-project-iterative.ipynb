{
 "cells": [
  {
   "cell_type": "markdown",
   "metadata": {},
   "source": [
    "# Two-dimensional Diffusion Equation Solver Using Finite Volume Method\n",
    "### Laura Shi"
   ]
  },
  {
   "cell_type": "code",
   "execution_count": 1,
   "metadata": {},
   "outputs": [],
   "source": [
    "import scipy as sc\n",
    "from scipy import linalg\n",
    "import numpy as np\n",
    "import matplotlib.pyplot as plt\n",
    "from pprint import pprint\n",
    "\n",
    "# Set some parameters for plotting\n",
    "plt.style.use('fivethirtyeight')\n",
    "plt.rcParams['figure.figsize'] = (12, 9)\n",
    "plt.rcParams['font.size'] = 16\n",
    "%matplotlib inline"
   ]
  },
  {
   "cell_type": "markdown",
   "metadata": {},
   "source": [
    "## Input Deck"
   ]
  },
  {
   "cell_type": "markdown",
   "metadata": {},
   "source": [
    "#### Hello, welcome to the 2-d finite volume diffusion solver. Please input the size of your n x m grid:"
   ]
  },
  {
   "cell_type": "code",
   "execution_count": 2,
   "metadata": {},
   "outputs": [],
   "source": [
    "# These are the number of edge points on which we will have the flux values\n",
    "n = 20 #number of rows\n",
    "m = 20 #number of columns"
   ]
  },
  {
   "cell_type": "markdown",
   "metadata": {},
   "source": [
    "#### Input the desired grid spacing in the x-direction (deltas) as an (m-1) vector and in the y-direction (epsilon) as an (n-1) vector:"
   ]
  },
  {
   "cell_type": "code",
   "execution_count": 3,
   "metadata": {},
   "outputs": [],
   "source": [
    "# Spacing can alternate between the first value and first*spacing_alt\n",
    "x_first, y_first = 1, 1\n",
    "x_spacing_alt, y_spacing_alt = 1, 1 #when set to 1, all spacing is uniform\n",
    "\n",
    "delta = np.ones(m-1)*x_first\n",
    "delta[1::2] = delta[1::2]*x_spacing_alt\n",
    "eps = np.ones(n-1)*y_first\n",
    "eps[1::2] = eps[1::2]*y_spacing_alt"
   ]
  },
  {
   "cell_type": "markdown",
   "metadata": {},
   "source": [
    "#### Specify material constants and number of divisions"
   ]
  },
  {
   "cell_type": "code",
   "execution_count": 4,
   "metadata": {},
   "outputs": [],
   "source": [
    "# Create array for the cell material properties with possibility for 2 different materials:\n",
    "# Determines the even-ness of the split, if division = 1, all same material\n",
    "division = 2; splitval = int((1/division) * n)\n",
    "\n",
    "#default values (right side material constants)\n",
    "D_default = 10; Sigma_def = 100; Source_def = 50\n",
    "\n",
    "#factor by which the left side is greater than the right\n",
    "diff_fact = 2 "
   ]
  },
  {
   "cell_type": "markdown",
   "metadata": {},
   "source": [
    "#### Boundary Condition Flags"
   ]
  },
  {
   "cell_type": "code",
   "execution_count": 5,
   "metadata": {},
   "outputs": [],
   "source": [
    "leftVac = True\n",
    "botVac = True\n",
    "rightRef = True\n",
    "topRef = True"
   ]
  },
  {
   "cell_type": "markdown",
   "metadata": {},
   "source": [
    "#### Create arrays of material constants based on inputs above:"
   ]
  },
  {
   "cell_type": "code",
   "execution_count": 6,
   "metadata": {},
   "outputs": [
    {
     "data": {
      "text/plain": [
       "array([[20., 20., 20., 20., 20., 20., 20., 20., 20., 20., 10., 10., 10.,\n",
       "        10., 10., 10., 10., 10., 10.],\n",
       "       [20., 20., 20., 20., 20., 20., 20., 20., 20., 20., 10., 10., 10.,\n",
       "        10., 10., 10., 10., 10., 10.],\n",
       "       [20., 20., 20., 20., 20., 20., 20., 20., 20., 20., 10., 10., 10.,\n",
       "        10., 10., 10., 10., 10., 10.],\n",
       "       [20., 20., 20., 20., 20., 20., 20., 20., 20., 20., 10., 10., 10.,\n",
       "        10., 10., 10., 10., 10., 10.],\n",
       "       [20., 20., 20., 20., 20., 20., 20., 20., 20., 20., 10., 10., 10.,\n",
       "        10., 10., 10., 10., 10., 10.],\n",
       "       [20., 20., 20., 20., 20., 20., 20., 20., 20., 20., 10., 10., 10.,\n",
       "        10., 10., 10., 10., 10., 10.],\n",
       "       [20., 20., 20., 20., 20., 20., 20., 20., 20., 20., 10., 10., 10.,\n",
       "        10., 10., 10., 10., 10., 10.],\n",
       "       [20., 20., 20., 20., 20., 20., 20., 20., 20., 20., 10., 10., 10.,\n",
       "        10., 10., 10., 10., 10., 10.],\n",
       "       [20., 20., 20., 20., 20., 20., 20., 20., 20., 20., 10., 10., 10.,\n",
       "        10., 10., 10., 10., 10., 10.],\n",
       "       [20., 20., 20., 20., 20., 20., 20., 20., 20., 20., 10., 10., 10.,\n",
       "        10., 10., 10., 10., 10., 10.],\n",
       "       [20., 20., 20., 20., 20., 20., 20., 20., 20., 20., 10., 10., 10.,\n",
       "        10., 10., 10., 10., 10., 10.],\n",
       "       [20., 20., 20., 20., 20., 20., 20., 20., 20., 20., 10., 10., 10.,\n",
       "        10., 10., 10., 10., 10., 10.],\n",
       "       [20., 20., 20., 20., 20., 20., 20., 20., 20., 20., 10., 10., 10.,\n",
       "        10., 10., 10., 10., 10., 10.],\n",
       "       [20., 20., 20., 20., 20., 20., 20., 20., 20., 20., 10., 10., 10.,\n",
       "        10., 10., 10., 10., 10., 10.],\n",
       "       [20., 20., 20., 20., 20., 20., 20., 20., 20., 20., 10., 10., 10.,\n",
       "        10., 10., 10., 10., 10., 10.],\n",
       "       [20., 20., 20., 20., 20., 20., 20., 20., 20., 20., 10., 10., 10.,\n",
       "        10., 10., 10., 10., 10., 10.],\n",
       "       [20., 20., 20., 20., 20., 20., 20., 20., 20., 20., 10., 10., 10.,\n",
       "        10., 10., 10., 10., 10., 10.],\n",
       "       [20., 20., 20., 20., 20., 20., 20., 20., 20., 20., 10., 10., 10.,\n",
       "        10., 10., 10., 10., 10., 10.],\n",
       "       [20., 20., 20., 20., 20., 20., 20., 20., 20., 20., 10., 10., 10.,\n",
       "        10., 10., 10., 10., 10., 10.]])"
      ]
     },
     "metadata": {},
     "output_type": "display_data"
    }
   ],
   "source": [
    "D = np.ones((n-1, m-1))*D_default #diffusion coeffient grid, initialize all to 10\n",
    "D[:, :splitval] = D[:, :splitval]*diff_fact #left regime\n",
    "\n",
    "Sigma_a = np.ones((n-1, m-1))*Sigma_def\n",
    "Sigma_a[:, :splitval] = Sigma_a[:, :splitval]*diff_fact\n",
    "\n",
    "Source = np.ones((n-1, m-1))*Source_def\n",
    "Source[:, :splitval] = Source[:, :splitval]*diff_fact\n",
    "display(D)\n",
    "#display(D, Sigma_a, Source)"
   ]
  },
  {
   "cell_type": "markdown",
   "metadata": {},
   "source": [
    "### Averaging $\\Sigma_{a, i ,j}, S_{i, j}$ to Produce $\\Sigma_{a, ij}$ and $S_{ij}$"
   ]
  },
  {
   "cell_type": "code",
   "execution_count": 7,
   "metadata": {},
   "outputs": [],
   "source": [
    "def make_av_matrix(orig_matrix):\n",
    "    a, b = orig_matrix.shape\n",
    "    n, m = a + 1, b + 1 #set values for returned array\n",
    "    av_matrix = np.zeros((n, m))\n",
    "    \n",
    "    #corner cases, only keep 1/4th because on the corner (throws out 3 other points):\n",
    "    av_matrix[0][0] = (1/4)*orig_matrix[0][0]*eps[0]*delta[0]\n",
    "    av_matrix[0][m-1] = (1/4)*orig_matrix[0][m-2]*eps[0]*delta[m-2]\n",
    "    av_matrix[n-1][0] = (1/4)*orig_matrix[n-2][0]*eps[n-2]*delta[0]\n",
    "    av_matrix[n-1][m-1] = (1/4)*orig_matrix[n-2][m-2]*eps[n-2]*delta[m-2]\n",
    "    \n",
    "    #edge cases, will be half of center magnitude because throw out 2 points:\n",
    "    # left edge, y = 0; right edge, y = m-2 in original\n",
    "    for x in range(1, n-1):\n",
    "        av_matrix[x][0] = (1/4)* (orig_matrix[x-1][0]*eps[x-1]*delta[0] + orig_matrix[x][0]*eps[x]*delta[0])\n",
    "        av_matrix[x][m-1] = (1/4)* (orig_matrix[x-1][m-2]*eps[x-1]*delta[m-2] + orig_matrix[x][m-2]*eps[x]*delta[m-2])\n",
    "        \n",
    "    #top edge, x = 0; bottom edge, x = n-2 in original\n",
    "    for y in range(1, m-1):\n",
    "        av_matrix[0][y] = (1/4)* (orig_matrix[0][y-1]*eps[0]*delta[y-1] + orig_matrix[0][y]*eps[0]*delta[y])\n",
    "        av_matrix[n-1][y] = (1/4)* (orig_matrix[n-2][y-1]*eps[n-2]*delta[y-1] + orig_matrix[n-2][y]*eps[n-2]*delta[y])\n",
    "    \n",
    "    #center cases:\n",
    "    for x in range(1, (n-1)):\n",
    "        for y in range(1, (m-1)):\n",
    "            av_matrix[x][y] = (1/4)*(orig_matrix[x-1][y-1]*eps[x-1]*delta[y-1] + #topL\n",
    "                                     orig_matrix[x][y-1]*eps[x]*delta[y-1] + #botL\n",
    "                                     orig_matrix[x-1][y]*eps[x-1]*delta[y] + #topR\n",
    "                                     orig_matrix[x][y]*eps[x]*delta[y]) #botR\n",
    "    return av_matrix"
   ]
  },
  {
   "cell_type": "code",
   "execution_count": 8,
   "metadata": {},
   "outputs": [],
   "source": [
    "#create averaged n x m arrays from above function which takes in (n-1) x (m-1) original material properties\n",
    "Sigma_av = make_av_matrix(Sigma_a)\n",
    "Source_av = make_av_matrix(Source)\n",
    "# display(Sigma_av, Source_av)"
   ]
  },
  {
   "cell_type": "code",
   "execution_count": 11,
   "metadata": {},
   "outputs": [
    {
     "data": {
      "image/png": "[encoded data removed]",
      "text/plain": [
       "<Figure size 576x576 with 2 Axes>"
      ]
     },
     "metadata": {
      "needs_background": "light"
     },
     "output_type": "display_data"
    }
   ],
   "source": [
    "#visualizing the Sigma term, material properties\n",
    "import matplotlib.pyplot as plt\n",
    "import numpy as np\n",
    "plt.figure(figsize = (8, 8))\n",
    "plt.imshow(X = Sigma_av, cmap='Blues', interpolation='nearest', origin = 'lower')\n",
    "plt.colorbar()\n",
    "plt.xticks(np.linspace(0, m-1, m))\n",
    "plt.yticks(np.linspace(0, n-1, n))\n",
    "plt.title('Absorption Cross Section Averaged')\n",
    "plt.show()"
   ]
  },
  {
   "cell_type": "markdown",
   "metadata": {},
   "source": [
    "## Setting Up Systems of Equations ($A$ Matrix, Source Term $\\vec{S})$"
   ]
  },
  {
   "cell_type": "markdown",
   "metadata": {},
   "source": [
    "\\begin{equation}\n",
    "\\underbrace{\\begin{pmatrix}\n",
    "\\begin{pmatrix}\n",
    "a_{C}^{00} & a_{R}^{00} & 0 \\\\\n",
    "a_{L}^{10} & a_{C}^{10} & a_{R}^{10} \\\\\n",
    "0            & a_{L}^{20} & a_{C}^{20}\n",
    "\\end{pmatrix} \n",
    "&\n",
    "\\begin{pmatrix}\n",
    "a_{T}^{00} & 0 & 0 \\\\\n",
    "0 & a_{T}^{10} & 0 \\\\\n",
    "0 & 0 & a_{T}^{20}\n",
    "\\end{pmatrix}\n",
    "&\n",
    "\\begin{pmatrix}\n",
    " & & \\\\\n",
    " & \\vec{0} & \\\\\n",
    " & & \n",
    "\\end{pmatrix} \\\\\n",
    "%--------------------\n",
    "\\begin{pmatrix}\n",
    "a_{B}^{01} & 0 & 0 \\\\\n",
    "0 & a_{B}^{11} & 0 \\\\\n",
    "0 & 0 & a_{B}^{21}\n",
    "\\end{pmatrix}\n",
    "&\n",
    "\\begin{pmatrix}\n",
    "a_{C}^{01} & a_{R}^{01} & 0 \\\\\n",
    "a_{L}^{11} & a_{C}^{11} & a_{R}^{11} \\\\\n",
    "0            & a_{L}^{21} & a_{C}^{21}\n",
    "\\end{pmatrix}\n",
    "&\n",
    "\\begin{pmatrix}\n",
    "a_{T}^{01} & 0 & 0 \\\\\n",
    "0 & a_{T}^{11} & 0 \\\\\n",
    "0 & 0 & a_{T}^{21}\n",
    "\\end{pmatrix} \\\\\n",
    "%--------------------\n",
    "\\begin{pmatrix}\n",
    " & & \\\\\n",
    " & \\vec{0} & \\\\\n",
    " & & \n",
    "\\end{pmatrix} &\n",
    "\\begin{pmatrix}\n",
    "a_{B}^{02} & 0 & 0 \\\\\n",
    "0 & a_{B}^{12} & 0 \\\\\n",
    "0 & 0 & a_{B}^{22}\n",
    "\\end{pmatrix}\n",
    "&\n",
    "\\begin{pmatrix}\n",
    "a_{C}^{02} & a_{R}^{02} & 0 \\\\\n",
    "a_{L}^{12} & a_{C}^{12} & a_{R}^{12} \\\\\n",
    "0            & a_{L}^{22} & a_{C}^{22}\n",
    "\\end{pmatrix} \\\\\n",
    "\\end{pmatrix}}_{\\vec{A}}\n",
    "%--------------------\n",
    "%\n",
    "\\underbrace{\\begin{pmatrix} \\phi_{0,0} \\\\ \\phi_{1,0} \\\\ \\phi_{2,0} \\\\ \\\\ \\phi_{0,1} \\\\ \\phi_{1,1} \\\\ \\phi_{2,1} \\\\ \\\\ \\phi_{0,2}\\\\ \\phi_{1,2} \\\\  \\phi_{2,2} \\end{pmatrix}}_{\\vec{\\phi}} =\n",
    "%\n",
    "\\underbrace{\\begin{pmatrix} S_{00} \\\\ S_{10} \\\\ S_{20} \\\\ \\\\ S_{01} \\\\ S_{11} \\\\ S_{21} \\\\ \\\\ S_{02} \\\\ S_{12} \\\\  S_{22} \\end{pmatrix}}_{\\vec{S}} \\nonumber\n",
    "\\end{equation}\n",
    "\n",
    "Where $$S_{ij} = { S_{i,j} V_{i,j} + S_{i+1,j} V_{i+1,j} + S_{i+1,j+1} V_{i+1,j+1} + S_{i,j+1} V_{i,j+1} } $$\n",
    "and\n",
    "$$V_{i,j} = \\frac{1}{4}\\delta_i \\epsilon_j \\:, \\quad V_{i+1,j} = \\frac{1}{4}\\delta_{i+1} \\epsilon_{j} \\:, \\quad V_{i+1,j+1} = \\frac{1}{4}\\delta_{i+1} \\epsilon_{j+1} \\:, \\quad V_{i,j+1} = \\frac{1}{4}\\delta_{i} \\epsilon_{j+1} \\:.$$\n",
    "as previously defined above"
   ]
  },
  {
   "cell_type": "markdown",
   "metadata": {},
   "source": [
    "### Creating the $A$ Matrix"
   ]
  },
  {
   "cell_type": "code",
   "execution_count": 12,
   "metadata": {},
   "outputs": [],
   "source": [
    "# Definitions of left, right, bottom, top and center influence including BCs\n",
    "def aL(i, j):\n",
    "    if ((leftVac and i == 0) or (botVac and j == 0)):\n",
    "        return 0\n",
    "    if (topRef and j == m - 1): #top reflecting condition, nothing above\n",
    "        return -(D[j-1][i-1]*eps[j-1])/(2*delta[i-1])\n",
    "    return -(D[j-1][i-1]*eps[j-1] + D[j][i-1]*eps[j])/(2*delta[i-1])\n",
    "\n",
    "def aR(i, j):\n",
    "    if ((leftVac and i == 0) or (botVac and j == 0) or (rightRef and i == n - 1)):\n",
    "        return 0\n",
    "    if (topRef and j == m - 1): #top reflecting condition, nothing above\n",
    "        return -(D[j-1][i]*eps[j-1])/(2*delta[i])\n",
    "    return -(D[j-1][i]*eps[j-1] + D[j][i]*eps[j])/(2*delta[i])\n",
    "\n",
    "def aB(i, j):\n",
    "    if ((leftVac and i == 0) or (botVac and j == 0)):\n",
    "        return 0\n",
    "    if (rightRef and i == n - 1):\n",
    "        return -(D[j-1][i-1]*delta[i-1])/(2*eps[j-1])\n",
    "    return -(D[j-1][i-1]*delta[i-1] + D[j-1][i]*delta[i])/(2*eps[j-1])\n",
    "\n",
    "def aT(i, j):\n",
    "    if ((leftVac and i == 0) or (botVac and j == 0) or (topRef and j == m - 1)):\n",
    "        return 0 #no contribution from top if have reflecting bc\n",
    "    if (rightRef and i == n - 1):\n",
    "        return (D[j][i-1]*delta[i-1])/(2*eps[j])\n",
    "    return -(D[j][i-1]*delta[i-1] + D[j][i]*delta[i])/(2*eps[j])\n",
    "\n",
    "def aC(i, j):\n",
    "    if ((leftVac and i == 0) or (botVac and j == 0)):\n",
    "        return 1\n",
    "    return Sigma_av[i][j]- (aL(i, j) + aR(i, j) + aB(i, j) + aT(i, j)) "
   ]
  },
  {
   "cell_type": "code",
   "execution_count": 13,
   "metadata": {},
   "outputs": [],
   "source": [
    "#submatrix creation\n",
    "#adjust to take non square matrices\n",
    "def buildCenter(n, m): #right now produces a square n x n submatrix\n",
    "    #n x n is dimension of individual matrix, m is the relative matrix number\n",
    "    A = np.zeros((n, n)) \n",
    "    A[0, 0], A[0, 1] = aC(0, m), aR(0, m) #first line\n",
    "    for j in range(1, (n-1)):\n",
    "        A[j, (j-1)], A[j, j], A[j, (j+1)] = aL(j, m), aC(j, m), aR(j, m) #middle lines\n",
    "    A[(n-1), (n-2)], A[(n-1), (n-1)] = aL(n-1, m), aC((n-1), m) #last line\n",
    "    return A\n",
    "\n",
    "def buildBot(n, m):\n",
    "    A = np.zeros((n, n))\n",
    "    for i in range(0, n):\n",
    "        for j in range(0, n):\n",
    "            if (i == j):\n",
    "                A[i][j] = aB(j, m)\n",
    "    return A\n",
    "\n",
    "def buildTop(n, m):\n",
    "    A = np.zeros((n, n))\n",
    "    for i in range(0, n):\n",
    "        for j in range(0, n):\n",
    "            if (i == j):\n",
    "                A[i][j] = aT(j, m)\n",
    "    return A"
   ]
  },
  {
   "cell_type": "code",
   "execution_count": 14,
   "metadata": {},
   "outputs": [],
   "source": [
    "def buildFullA(n): #assuming n is greater than or equal to 2\n",
    "    A = np.zeros((n**2, n**2))\n",
    "    A[0:n, 0:n], A[0:n, n:2*n] = buildCenter(n, 0), buildTop(n, 0)\n",
    "    for k in range(1, (n-1)): \n",
    "        A[(k*n):(k+1)*n, (k-1)*n:(k*n)] = buildBot(n, k) #dimensions n, k is value to invoke\n",
    "        A[(k*n):(k+1)*n, (k*n):(k+1)*n] = buildCenter(n, k)\n",
    "        A[(k*n):(k+1)*n, (k+1)*n:(k+2)*n] = buildTop(n, k)\n",
    "    A[(n-1)*n:n*n, (n-2)*n:(n-1)*n]= buildBot(n, (n-1))\n",
    "    A[(n-1)*n:n*n, (n-1)*n:n*n] = buildCenter(n, (n-1))\n",
    "    return A"
   ]
  },
  {
   "cell_type": "code",
   "execution_count": 15,
   "metadata": {
    "scrolled": true
   },
   "outputs": [
    {
     "data": {
      "text/plain": [
       "(400, 400)"
      ]
     },
     "execution_count": 15,
     "metadata": {},
     "output_type": "execute_result"
    }
   ],
   "source": [
    "A = buildFullA(n)\n",
    "# A[10:20, 10:20] #sanity check as splice through the created array\n",
    "A.shape "
   ]
  },
  {
   "cell_type": "markdown",
   "metadata": {},
   "source": [
    "### Creating the $\\vec{S}$ Source Vector"
   ]
  },
  {
   "cell_type": "code",
   "execution_count": 16,
   "metadata": {},
   "outputs": [
    {
     "data": {
      "text/plain": [
       "(400, 1)"
      ]
     },
     "execution_count": 16,
     "metadata": {},
     "output_type": "execute_result"
    }
   ],
   "source": [
    "def reshape_source(source_in):\n",
    "    #accounting for boundary conditions, altering the averaged source array first:\n",
    "    source_in[:, 0] = 0 #all left elements have no flux b/c vacuum\n",
    "    source_in[0, :] = 0 #all bottom elements have no flux b/c vacuum\n",
    "    n, m = source_in.shape\n",
    "    # no need to flip np.flip(source_in, 0).reshape((n*m), 1) \n",
    "    # since would just end up flipping back everything, reduces complication, just use current grid\n",
    "    reshaped = source_in.reshape((n*m), 1)\n",
    "    return reshaped\n",
    "\n",
    "#reshape source to be a (n x m) x 1 vector that will be our \"b\" to be solved\n",
    "#shape the vector appropriately to account for correct indexing in a Cartesian grid (converted from array indexing)\n",
    "\n",
    "Source_solve = reshape_source(Source_av)\n",
    "Source_solve.shape"
   ]
  },
  {
   "cell_type": "code",
   "execution_count": 19,
   "metadata": {},
   "outputs": [
    {
     "data": {
      "image/png": "[encoded data removed]",
      "text/plain": [
       "<Figure size 576x576 with 2 Axes>"
      ]
     },
     "metadata": {
      "needs_background": "light"
     },
     "output_type": "display_data"
    }
   ],
   "source": [
    "#visualizing the source term\n",
    "import matplotlib.pyplot as plt\n",
    "import numpy as np\n",
    "plt.figure(figsize = (8, 8))\n",
    "plt.imshow(X = Source_av, cmap='Blues', interpolation='nearest', origin = 'lower')\n",
    "plt.colorbar()\n",
    "plt.xticks(np.linspace(0, m-1, m))\n",
    "plt.yticks(np.linspace(0, n-1, n))\n",
    "plt.title('Source Term Averaged with Boundary Conditions')\n",
    "plt.show()"
   ]
  },
  {
   "cell_type": "markdown",
   "metadata": {},
   "source": [
    "## Perform Iterative Methods to Solve for the Flux, $\\vec{\\phi}$"
   ]
  },
  {
   "cell_type": "markdown",
   "metadata": {},
   "source": [
    "### Code for Iterative Methods"
   ]
  },
  {
   "cell_type": "code",
   "execution_count": 20,
   "metadata": {},
   "outputs": [],
   "source": [
    "#perform one Jacobian iteration given A, b, and xk\n",
    "#used as inner function for convergence checker\n",
    "def jacobi(A, b, xk):\n",
    "    newX = []\n",
    "    n = len(b)\n",
    "    for i in range(0, n):\n",
    "        summation = 0\n",
    "        for j in range(0, n):\n",
    "            if (j !=i):\n",
    "                summation = summation + A[i][j]*xk[j]\n",
    "        xi = (1/(A[i][i]))* (b[i] - summation)\n",
    "        newX.append(xi)\n",
    "    return np.array(newX)"
   ]
  },
  {
   "cell_type": "code",
   "execution_count": 21,
   "metadata": {},
   "outputs": [],
   "source": [
    "def gs(A, b, xk):\n",
    "    newX = []\n",
    "    n = len(b)\n",
    "    for i in range(0, n):\n",
    "        sum1 = 0\n",
    "        sum2 = 0\n",
    "        for j in range(0, n):\n",
    "            if (j < i):\n",
    "                sum1= sum1 + A[i][j]*newX[j]\n",
    "            elif (j > i):\n",
    "                sum2 = sum2 + A[i][j]*xk[j]\n",
    "        \n",
    "        xi = (1/(A[i][i]))* (b[i] - sum1 - sum2)\n",
    "        newX.append(xi)\n",
    "    return np.array(newX)"
   ]
  },
  {
   "cell_type": "code",
   "execution_count": 22,
   "metadata": {},
   "outputs": [],
   "source": [
    "def sor(A, b, xk, w):\n",
    "    newX = []\n",
    "    n = len(b)\n",
    "    for i in range(0, n):\n",
    "        sum1 = 0\n",
    "        sum2 = 0\n",
    "        for j in range(0, n):\n",
    "            if (j < i):\n",
    "                sum1= sum1 + A[i][j]*newX[j]\n",
    "            elif (j > i):\n",
    "                sum2 = sum2 + A[i][j]*xk[j]\n",
    "        xi = (1- w)*xk[i] + (w/(A[i][i]))* (b[i] - sum1 - sum2)\n",
    "        newX.append(xi)\n",
    "    return np.array(newX)"
   ]
  },
  {
   "cell_type": "code",
   "execution_count": 23,
   "metadata": {},
   "outputs": [],
   "source": [
    "#general convergence checker that is general per method\n",
    "def performIteration(A, b, xk, tol, method, *w):\n",
    "    iter_count = 0;\n",
    "    err = np.inf\n",
    "    while err > tol:\n",
    "        X_new = method(A, b, xk, *w)\n",
    "        err = np.linalg.norm((X_new - xk)) #error is difference between previous iteration!\n",
    "        iter_count = iter_count + 1\n",
    "        xk = X_new\n",
    "    return xk, err, iter_count"
   ]
  },
  {
   "cell_type": "markdown",
   "metadata": {},
   "source": [
    "### Perform methods on the system"
   ]
  },
  {
   "cell_type": "code",
   "execution_count": 24,
   "metadata": {},
   "outputs": [
    {
     "name": "stdout",
     "output_type": "stream",
     "text": [
      "iteration count: 20\n",
      "error: 5.871835492211564e-07\n"
     ]
    }
   ],
   "source": [
    "A = buildFullA(n)\n",
    "b = Source_solve\n",
    "x0 = np.zeros(n*n) \n",
    "tol = 10**(-6)\n",
    "\n",
    "flux_sols_Jacobi, err, count = performIteration(A, b, x0, tol, jacobi)\n",
    "#print('solution vector Jacobi:\\n', flux_sols)\n",
    "print('iteration count:', count)\n",
    "print('error:', err)"
   ]
  },
  {
   "cell_type": "code",
   "execution_count": 25,
   "metadata": {},
   "outputs": [
    {
     "name": "stdout",
     "output_type": "stream",
     "text": [
      "iteration count: 13\n",
      "error: 7.746921641181111e-07\n"
     ]
    }
   ],
   "source": [
    "flux_sols_GS, err, count = performIteration(A, b, x0, tol, gs)\n",
    "#print('solution vector GS:', flux_sols_GS)\n",
    "print('iteration count:', count)\n",
    "print('error:', err)"
   ]
  },
  {
   "cell_type": "code",
   "execution_count": 26,
   "metadata": {},
   "outputs": [
    {
     "name": "stdout",
     "output_type": "stream",
     "text": [
      "iteration count: 11\n",
      "error: 1.929563995839579e-07\n"
     ]
    }
   ],
   "source": [
    "w = 1.1\n",
    "flux_sols_SOR, err, count = performIteration(A, b, x0, tol, sor, w)\n",
    "#print('solution vector SOR w = 1.15:\\n', flux_sols_SOR)\n",
    "print('iteration count:', count)\n",
    "print('error:', err)"
   ]
  },
  {
   "cell_type": "markdown",
   "metadata": {},
   "source": [
    "### Visualizing flux $\\phi$ values on a heat map"
   ]
  },
  {
   "cell_type": "code",
   "execution_count": 27,
   "metadata": {},
   "outputs": [
    {
     "data": {
      "image/png": "[encoded data removed]",
      "text/plain": [
       "<Figure size 864x864 with 2 Axes>"
      ]
     },
     "metadata": {
      "needs_background": "light"
     },
     "output_type": "display_data"
    }
   ],
   "source": [
    "flux_solve = flux_sols_GS\n",
    "flux_array = flux_solve.reshape(n, m)\n",
    "#flux_array\n",
    "\n",
    "#visualizing the source term\n",
    "import matplotlib.pyplot as plt\n",
    "import numpy as np\n",
    "plt.figure(figsize = (12, 12))\n",
    "plt.imshow(X = flux_array, cmap='Reds', interpolation='nearest', origin = 'lower')\n",
    "plt.colorbar()\n",
    "plt.xticks(np.linspace(0, m-1, m))\n",
    "plt.yticks(np.linspace(0, n-1, n))\n",
    "plt.title('Corresponding Flux Values for the System')\n",
    "plt.show()"
   ]
  },
  {
   "cell_type": "markdown",
   "metadata": {},
   "source": [
    "## Sanity Check Tests with Physical Scenarios"
   ]
  },
  {
   "cell_type": "markdown",
   "metadata": {},
   "source": [
    "Scenario 1: \"Point\" source at the center and only one material"
   ]
  },
  {
   "cell_type": "code",
   "execution_count": 33,
   "metadata": {},
   "outputs": [],
   "source": [
    "point_source = np.ones((n-1, m-1))\n",
    "point_source[int((n-1)/2)-2:int((n-1)/2)+2, int((m-1)/2)-2:int((m-1)/2)+2] = 3\n",
    "point_source_av = make_av_matrix(point_source)\n",
    "#point_source"
   ]
  },
  {
   "cell_type": "code",
   "execution_count": 34,
   "metadata": {},
   "outputs": [
    {
     "data": {
      "image/png": "[encoded data removed]",
      "text/plain": [
       "<Figure size 576x576 with 2 Axes>"
      ]
     },
     "metadata": {
      "needs_background": "light"
     },
     "output_type": "display_data"
    }
   ],
   "source": [
    "#visualizing the source term\n",
    "import matplotlib.pyplot as plt\n",
    "import numpy as np\n",
    "plt.figure(figsize = (8, 8))\n",
    "plt.imshow(X = point_source_av, cmap='Blues', interpolation='nearest', origin = 'lower')\n",
    "plt.colorbar()\n",
    "plt.xticks(np.linspace(0, m-1, m))\n",
    "plt.yticks(np.linspace(0, n-1, n))\n",
    "plt.show()"
   ]
  },
  {
   "cell_type": "code",
   "execution_count": 38,
   "metadata": {},
   "outputs": [
    {
     "name": "stdout",
     "output_type": "stream",
     "text": [
      "iteration count: 14\n",
      "error: 9.431305939384327e-07\n"
     ]
    }
   ],
   "source": [
    "A_PS = buildFullA(n)\n",
    "b_PS = reshape_source(point_source_av)\n",
    "x0 = np.zeros(n*n) \n",
    "tol = 10**(-6)\n",
    "\n",
    "flux_sols_Jacobi_PS, err, count = performIteration(A_PS, b_PS, x0, tol, jacobi)\n",
    "#print('solution vector Jacobi:\\n', flux_sols)\n",
    "print('iteration count:', count)\n",
    "print('error:', err)"
   ]
  },
  {
   "cell_type": "code",
   "execution_count": 39,
   "metadata": {},
   "outputs": [
    {
     "name": "stdout",
     "output_type": "stream",
     "text": [
      "iteration count: 10\n",
      "error: 4.776467626935138e-07\n"
     ]
    }
   ],
   "source": [
    "flux_sols_GS_PS, err, count = performIteration(A_PS, b_PS, x0, tol, gs)\n",
    "#print('solution vector GS:', flux_sols_GS)\n",
    "print('iteration count:', count)\n",
    "print('error:', err)"
   ]
  },
  {
   "cell_type": "code",
   "execution_count": 40,
   "metadata": {},
   "outputs": [
    {
     "name": "stdout",
     "output_type": "stream",
     "text": [
      "iteration count: 8\n",
      "error: 4.66529750970632e-07\n"
     ]
    }
   ],
   "source": [
    "w = 1.1\n",
    "flux_sols_SOR_PS, err, count = performIteration(A_PS, b_PS, x0, tol, sor, w)\n",
    "#print('solution vector SOR w = 1.15:\\n', flux_sols_SOR)\n",
    "print('iteration count:', count)\n",
    "print('error:', err)"
   ]
  },
  {
   "cell_type": "code",
   "execution_count": 41,
   "metadata": {},
   "outputs": [
    {
     "data": {
      "image/png": "[encoded data removed]",
      "text/plain": [
       "<Figure size 864x864 with 2 Axes>"
      ]
     },
     "metadata": {
      "needs_background": "light"
     },
     "output_type": "display_data"
    }
   ],
   "source": [
    "flux_solve_PS = flux_sols_GS_PS\n",
    "flux_array_PS = flux_solve_PS.reshape(n, m)\n",
    "#flux_array\n",
    "\n",
    "#visualizing the source term\n",
    "import matplotlib.pyplot as plt\n",
    "import numpy as np\n",
    "plt.figure(figsize = (12, 12))\n",
    "plt.imshow(X = flux_array_PS, cmap='Reds', interpolation='nearest', origin = 'lower')\n",
    "plt.colorbar()\n",
    "plt.xticks(np.linspace(0, m-1, m))\n",
    "plt.yticks(np.linspace(0, n-1, n))\n",
    "plt.show()"
   ]
  }
 ],
 "metadata": {
  "kernelspec": {
   "display_name": "Python 3",
   "language": "python",
   "name": "python3"
  },
  "language_info": {
   "codemirror_mode": {
    "name": "ipython",
    "version": 3
   },
   "file_extension": ".py",
   "mimetype": "text/x-python",
   "name": "python",
   "nbconvert_exporter": "python",
   "pygments_lexer": "ipython3",
   "version": "3.7.3"
  }
 },
 "nbformat": 4,
 "nbformat_minor": 2
}
