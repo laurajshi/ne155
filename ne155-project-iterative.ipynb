{
 "cells": [
  {
   "cell_type": "markdown",
   "metadata": {},
   "source": [
    "# Two-dimensional Diffusion Equation Solver Using Finite Volume Method\n",
    "### Laura Shi"
   ]
  },
  {
   "cell_type": "code",
   "execution_count": 54,
   "metadata": {},
   "outputs": [],
   "source": [
    "import scipy as sc\n",
    "from scipy import linalg\n",
    "import numpy as np\n",
    "import matplotlib.pyplot as plt\n",
    "from pprint import pprint\n",
    "\n",
    "# Set some parameters for plotting\n",
    "plt.style.use('fivethirtyeight')\n",
    "plt.rcParams['figure.figsize'] = (12, 9)\n",
    "plt.rcParams['font.size'] = 16\n",
    "%matplotlib inline"
   ]
  },
  {
   "cell_type": "markdown",
   "metadata": {},
   "source": [
    "## Input deck values"
   ]
  },
  {
   "cell_type": "code",
   "execution_count": 55,
   "metadata": {},
   "outputs": [
    {
     "data": {
      "text/plain": [
       "array([[200., 200., 200., 200., 200., 100., 100., 100., 100., 100.],\n",
       "       [200., 200., 200., 200., 200., 100., 100., 100., 100., 100.],\n",
       "       [200., 200., 200., 200., 200., 100., 100., 100., 100., 100.],\n",
       "       [200., 200., 200., 200., 200., 100., 100., 100., 100., 100.],\n",
       "       [200., 200., 200., 200., 200., 100., 100., 100., 100., 100.],\n",
       "       [200., 200., 200., 200., 200., 100., 100., 100., 100., 100.],\n",
       "       [200., 200., 200., 200., 200., 100., 100., 100., 100., 100.],\n",
       "       [200., 200., 200., 200., 200., 100., 100., 100., 100., 100.],\n",
       "       [200., 200., 200., 200., 200., 100., 100., 100., 100., 100.],\n",
       "       [200., 200., 200., 200., 200., 100., 100., 100., 100., 100.]])"
      ]
     },
     "metadata": {},
     "output_type": "display_data"
    },
    {
     "data": {
      "text/plain": [
       "array([[20., 20., 20., 20., 20., 10., 10., 10., 10., 10.],\n",
       "       [20., 20., 20., 20., 20., 10., 10., 10., 10., 10.],\n",
       "       [20., 20., 20., 20., 20., 10., 10., 10., 10., 10.],\n",
       "       [20., 20., 20., 20., 20., 10., 10., 10., 10., 10.],\n",
       "       [20., 20., 20., 20., 20., 10., 10., 10., 10., 10.],\n",
       "       [20., 20., 20., 20., 20., 10., 10., 10., 10., 10.],\n",
       "       [20., 20., 20., 20., 20., 10., 10., 10., 10., 10.],\n",
       "       [20., 20., 20., 20., 20., 10., 10., 10., 10., 10.],\n",
       "       [20., 20., 20., 20., 20., 10., 10., 10., 10., 10.],\n",
       "       [20., 20., 20., 20., 20., 10., 10., 10., 10., 10.]])"
      ]
     },
     "metadata": {},
     "output_type": "display_data"
    },
    {
     "data": {
      "text/plain": [
       "array([[80., 80., 80., 80., 80., 40., 40., 40., 40., 40.],\n",
       "       [80., 80., 80., 80., 80., 40., 40., 40., 40., 40.],\n",
       "       [80., 80., 80., 80., 80., 40., 40., 40., 40., 40.],\n",
       "       [80., 80., 80., 80., 80., 40., 40., 40., 40., 40.],\n",
       "       [80., 80., 80., 80., 80., 40., 40., 40., 40., 40.],\n",
       "       [80., 80., 80., 80., 80., 40., 40., 40., 40., 40.],\n",
       "       [80., 80., 80., 80., 80., 40., 40., 40., 40., 40.],\n",
       "       [80., 80., 80., 80., 80., 40., 40., 40., 40., 40.],\n",
       "       [80., 80., 80., 80., 80., 40., 40., 40., 40., 40.],\n",
       "       [80., 80., 80., 80., 80., 40., 40., 40., 40., 40.]])"
      ]
     },
     "metadata": {},
     "output_type": "display_data"
    },
    {
     "data": {
      "text/plain": [
       "array([1., 1., 1., 1., 1., 1., 1., 1., 1., 1.])"
      ]
     },
     "metadata": {},
     "output_type": "display_data"
    },
    {
     "data": {
      "text/plain": [
       "array([2., 2., 2., 2., 2., 2., 2., 2., 2., 2.])"
      ]
     },
     "metadata": {},
     "output_type": "display_data"
    }
   ],
   "source": [
    "n = 10 #size for n x n grid\n",
    "m = 10\n",
    "\n",
    "D = np.ones((n, m))*10 #diffusion coeffient grid\n",
    "splitval = int((1/2)*n) #split value for the hald\n",
    "D[:, :splitval] = 20 #left regime\n",
    "\n",
    "Sigma_a = np.ones((n, m))*100\n",
    "Sigma_a[:, :splitval] = 200 #left regime different material properties\n",
    "\n",
    "Source = np.ones((n, m))*40 #source term\n",
    "Source[:, :splitval] = 80 #source term\n",
    "delta = np.ones((n, )) #x spacing\n",
    "eps = np.ones((n, ))*2 #y spacing\n",
    "\n",
    "display(Sigma_a, D, Source, delta, eps)"
   ]
  },
  {
   "cell_type": "code",
   "execution_count": 56,
   "metadata": {},
   "outputs": [],
   "source": [
    "def calcV(i, j):\n",
    "    return (1/4)* delta[i]*eps[j]"
   ]
  },
  {
   "cell_type": "code",
   "execution_count": 57,
   "metadata": {},
   "outputs": [],
   "source": [
    "def calcSigma_a(i, j):\n",
    "    av = 0\n",
    "    i_limit = min(Sigma_a.shape[0], i+2)\n",
    "    j_limit = min(Sigma_a.shape[1], j+2)\n",
    "    for x in range(i, i_limit):\n",
    "        for y in range(j, j_limit):\n",
    "            av = av + Sigma_a[x][y]*calcV(x, y)\n",
    "    return av"
   ]
  },
  {
   "cell_type": "markdown",
   "metadata": {},
   "source": [
    "## Creating the $A$ Matrix"
   ]
  },
  {
   "cell_type": "code",
   "execution_count": 58,
   "metadata": {},
   "outputs": [],
   "source": [
    "#UPDATE VALUES, right now just uses dummy values to make sure displaying correctly\n",
    "def aL(i, j):\n",
    "    return -(D[i][j]*eps[j] + D[i][j+1]*eps[j+1])/(2*delta[i])\n",
    "def aR(i, j):\n",
    "    return -(D[i+1][j]*eps[j] + D[i+1][j+1]*eps[j+1])/(2*delta[i+1])\n",
    "def aB(i, j):\n",
    "    return -(D[i][j]*delta[i] + D[i+1][j+1]*delta[i+1])/(2*eps[j])\n",
    "def aT(i, j):\n",
    "    return -(D[i][j+1]*delta[i] + D[i+1][j+1]*delta[i+1])/(2*eps[j+1])\n",
    "def aC(i, j):\n",
    "    return calcSigma_a(i, j)- (aL(i, j) + aR(i, j) + aB(i, j) + aT(i, j)) "
   ]
  },
  {
   "cell_type": "code",
   "execution_count": 59,
   "metadata": {},
   "outputs": [],
   "source": [
    "#submatrix creation\n",
    "def buildCenter(n, m): #right now produces a square n x n submatrix\n",
    "    #n x n is dimension of individual matrix, m is the relative matrix number\n",
    "    A = np.zeros((n, n)) \n",
    "    A[0, 0], A[0, 1] = aC(0, m), aR(0, m) #first line\n",
    "    for j in range(1, (n-1)):\n",
    "        A[j, (j-1)], A[j, j], A[j, (j+1)] = aL(j, m), aC(j, m), aR(j, m) #middle lines\n",
    "    A[(n-1), (n-2)], A[(n-1), (n-1)] = aL(n-1, m), aC((n-1), m) #last line\n",
    "    return A\n",
    "\n",
    "def buildBot(n, m):\n",
    "    A = np.zeros((n, n))\n",
    "    for i in range(0, n):\n",
    "        for j in range(0, n):\n",
    "            if (i == j):\n",
    "                A[i][j] = aB(j, m)\n",
    "    return A\n",
    "\n",
    "def buildTop(n, m):\n",
    "    A = np.zeros((n, n))\n",
    "    for i in range(0, n):\n",
    "        for j in range(0, n):\n",
    "            if (i == j):\n",
    "                A[i][j] = aT(j, m)\n",
    "    return A"
   ]
  },
  {
   "cell_type": "code",
   "execution_count": 60,
   "metadata": {},
   "outputs": [],
   "source": [
    "def buildFullA(n): #assuming n is greater than or equal to 2\n",
    "    A = np.zeros((n**2, n**2))\n",
    "    A[0:n, 0:n], A[0:n, n:2*n] = buildCenter(n, 0), buildTop(n, 0)\n",
    "    for k in range(1, (n-1)): \n",
    "        A[(k*n):(k+1)*n, (k-1)*n:(k*n)] = buildBot(n, k) #dimensions n, k is value to invoke\n",
    "        A[(k*n):(k+1)*n, (k*n):(k+1)*n] = buildCenter(n, k)\n",
    "        A[(k*n):(k+1)*n, (k+1)*n:(k+2)*n] = buildTop(n, k)\n",
    "    A[(n-1)*n:n*n, (n-2)*n:(n-1)*n]= buildBot(n, (n-1))\n",
    "    A[(n-1)*n:n*n, (n-1)*n:n*n] = buildCenter(n, (n-1))\n",
    "    return A"
   ]
  },
  {
   "cell_type": "code",
   "execution_count": 61,
   "metadata": {
    "scrolled": true
   },
   "outputs": [
    {
     "data": {
      "text/plain": [
       "array([[500., -40.,   0., ...,   0.,   0.,   0.],\n",
       "       [-40., 500., -40., ...,   0.,   0.,   0.],\n",
       "       [  0., -40., 500., ...,   0.,   0.,   0.],\n",
       "       ...,\n",
       "       [  0.,   0.,   0., ..., 250., -20.,   0.],\n",
       "       [  0.,   0.,   0., ..., -20., 250., -20.],\n",
       "       [  0.,   0.,   0., ...,   0., -20., 250.]])"
      ]
     },
     "metadata": {},
     "output_type": "display_data"
    }
   ],
   "source": [
    "A = buildFullA(9)\n",
    "display(A)"
   ]
  },
  {
   "cell_type": "markdown",
   "metadata": {},
   "source": [
    "## Creating the Source Term $\\vec{S}$"
   ]
  },
  {
   "cell_type": "markdown",
   "metadata": {},
   "source": [
    "\\begin{equation}\n",
    "\\underbrace{\\begin{pmatrix}\n",
    "\\begin{pmatrix}\n",
    "a_{C}^{00} & a_{R}^{00} & 0 \\\\\n",
    "a_{L}^{10} & a_{C}^{10} & a_{R}^{10} \\\\\n",
    "0            & a_{L}^{20} & a_{C}^{20}\n",
    "\\end{pmatrix} \n",
    "&\n",
    "\\begin{pmatrix}\n",
    "a_{T}^{00} & 0 & 0 \\\\\n",
    "0 & a_{T}^{10} & 0 \\\\\n",
    "0 & 0 & a_{T}^{20}\n",
    "\\end{pmatrix}\n",
    "&\n",
    "\\begin{pmatrix}\n",
    " & & \\\\\n",
    " & \\vec{0} & \\\\\n",
    " & & \n",
    "\\end{pmatrix} \\\\\n",
    "%--------------------\n",
    "\\begin{pmatrix}\n",
    "a_{B}^{01} & 0 & 0 \\\\\n",
    "0 & a_{B}^{11} & 0 \\\\\n",
    "0 & 0 & a_{B}^{21}\n",
    "\\end{pmatrix}\n",
    "&\n",
    "\\begin{pmatrix}\n",
    "a_{C}^{01} & a_{R}^{01} & 0 \\\\\n",
    "a_{L}^{11} & a_{C}^{11} & a_{R}^{11} \\\\\n",
    "0            & a_{L}^{21} & a_{C}^{21}\n",
    "\\end{pmatrix}\n",
    "&\n",
    "\\begin{pmatrix}\n",
    "a_{T}^{01} & 0 & 0 \\\\\n",
    "0 & a_{T}^{11} & 0 \\\\\n",
    "0 & 0 & a_{T}^{21}\n",
    "\\end{pmatrix} \\\\\n",
    "%--------------------\n",
    "\\begin{pmatrix}\n",
    " & & \\\\\n",
    " & \\vec{0} & \\\\\n",
    " & & \n",
    "\\end{pmatrix} &\n",
    "\\begin{pmatrix}\n",
    "a_{B}^{02} & 0 & 0 \\\\\n",
    "0 & a_{B}^{12} & 0 \\\\\n",
    "0 & 0 & a_{B}^{22}\n",
    "\\end{pmatrix}\n",
    "&\n",
    "\\begin{pmatrix}\n",
    "a_{C}^{02} & a_{R}^{02} & 0 \\\\\n",
    "a_{L}^{12} & a_{C}^{12} & a_{R}^{12} \\\\\n",
    "0            & a_{L}^{22} & a_{C}^{22}\n",
    "\\end{pmatrix} \\\\\n",
    "\\end{pmatrix}}_{\\vec{A}}\n",
    "%--------------------\n",
    "%\n",
    "\\underbrace{\\begin{pmatrix} \\phi_{0,0} \\\\ \\phi_{1,0} \\\\ \\phi_{2,0} \\\\ \\\\ \\phi_{0,1} \\\\ \\phi_{1,1} \\\\ \\phi_{2,1} \\\\ \\\\ \\phi_{0,2}\\\\ \\phi_{1,2} \\\\  \\phi_{2,2} \\end{pmatrix}}_{\\vec{\\phi}} =\n",
    "%\n",
    "\\underbrace{\\begin{pmatrix} S_{00} \\\\ S_{10} \\\\ S_{20} \\\\ \\\\ S_{01} \\\\ S_{11} \\\\ S_{21} \\\\ \\\\ S_{02} \\\\ S_{12} \\\\  S_{22} \\end{pmatrix}}_{\\vec{S}} \\nonumber\n",
    "\\end{equation}"
   ]
  },
  {
   "cell_type": "markdown",
   "metadata": {},
   "source": [
    "Where $$S_{ij} = { S_{i,j} V_{i,j} + S_{i+1,j} V_{i+1,j} + S_{i+1,j+1} V_{i+1,j+1} + S_{i,j+1} V_{i,j+1} } $$\n",
    "and\n",
    "$$V_{i,j} = \\frac{1}{4}\\delta_i \\epsilon_j \\:, \\quad V_{i+1,j} = \\frac{1}{4}\\delta_{i+1} \\epsilon_{j} \\:, \\quad V_{i+1,j+1} = \\frac{1}{4}\\delta_{i+1} \\epsilon_{j+1} \\:, \\quad V_{i,j+1} = \\frac{1}{4}\\delta_{i} \\epsilon_{j+1} \\:.$$"
   ]
  },
  {
   "cell_type": "code",
   "execution_count": 62,
   "metadata": {},
   "outputs": [],
   "source": [
    "#NEED TO FIX WHEN FIGURE OUT ij business\n",
    "def calcSource(i, j):\n",
    "    av = 0\n",
    "    i_limit = min(Source.shape[0], i+2)\n",
    "    j_limit = min(Source.shape[1], j+2)\n",
    "    for x in range(i, i_limit):\n",
    "        for y in range(j, j_limit):\n",
    "            av = av + Source[x][y]*calcV(x, y) #issue is overflow with the calc source method at end points\n",
    "    return av"
   ]
  },
  {
   "cell_type": "code",
   "execution_count": 63,
   "metadata": {},
   "outputs": [],
   "source": [
    "def createSvec(n, m):\n",
    "    Svec = np.zeros(((n*m), 1)) #initialize array vector\n",
    "    for j in range(0, m):\n",
    "        temp = np.array([calcSource(i, j) for i in range(0, n)]).reshape(n, 1)\n",
    "        Svec[j*n: (j+1)*(n)] = temp\n",
    "    return Svec"
   ]
  },
  {
   "cell_type": "code",
   "execution_count": 64,
   "metadata": {},
   "outputs": [
    {
     "data": {
      "text/plain": [
       "(81, 1)"
      ]
     },
     "execution_count": 64,
     "metadata": {},
     "output_type": "execute_result"
    }
   ],
   "source": [
    "netSource = createSvec(9, 9)\n",
    "netSource.shape"
   ]
  },
  {
   "cell_type": "markdown",
   "metadata": {},
   "source": [
    "## Perform Iterative Methods to Solve for the Flux, $\\vec{\\phi}$"
   ]
  },
  {
   "cell_type": "code",
   "execution_count": 65,
   "metadata": {},
   "outputs": [],
   "source": [
    "#general convergence checker that is general per method\n",
    "def performIteration(A, b, xk, tol, method):\n",
    "    iter_count = 0;\n",
    "    err = np.inf\n",
    "    while err > tol:\n",
    "        X_new = method(A, b, xk)\n",
    "        err = np.linalg.norm((X_new - xk)) #error is difference between previous iteration!\n",
    "        iter_count = iter_count + 1\n",
    "        xk = X_new\n",
    "    return xk, err, iter_count"
   ]
  },
  {
   "cell_type": "code",
   "execution_count": 66,
   "metadata": {},
   "outputs": [],
   "source": [
    "#perform one Jacobian iteration given A, b, and xk\n",
    "#used as inner function for convergence checker\n",
    "def jacobi(A, b, xk):\n",
    "    newX = []\n",
    "    n = len(b)\n",
    "    for i in range(0, n):\n",
    "        summation = 0\n",
    "        for j in range(0, n):\n",
    "            if (j !=i):\n",
    "                summation = summation + A[i][j]*xk[j]\n",
    "        xi = (1/(A[i][i]))* (b[i] - summation)\n",
    "        newX.append(xi)\n",
    "    return np.array(newX)"
   ]
  },
  {
   "cell_type": "code",
   "execution_count": 79,
   "metadata": {},
   "outputs": [
    {
     "name": "stdout",
     "output_type": "stream",
     "text": [
      "iteration count: 10\n",
      "error: 8.11981301678759e-07\n"
     ]
    }
   ],
   "source": [
    "n = 9\n",
    "A = buildFullA(n)\n",
    "b = createSvec(n, n)\n",
    "x0 = np.zeros(n*n) \n",
    "tol = 10**(-6)\n",
    "\n",
    "xk, err, count = performIteration(A, b, x0, tol, jacobi)\n",
    "#print('solution vector Jacobi:\\n', xk)\n",
    "print('iteration count:', count)\n",
    "print('error:', err)"
   ]
  },
  {
   "cell_type": "code",
   "execution_count": 69,
   "metadata": {},
   "outputs": [],
   "source": [
    "def gs(A, b, xk):\n",
    "    newX = []\n",
    "    n = len(b)\n",
    "    for i in range(0, n):\n",
    "        sum1 = 0\n",
    "        sum2 = 0\n",
    "        for j in range(0, n):\n",
    "            if (j < i):\n",
    "                sum1= sum1 + A[i][j]*newX[j]\n",
    "            elif (j > i):\n",
    "                sum2 = sum2 + A[i][j]*xk[j]\n",
    "        \n",
    "        xi = (1/(A[i][i]))* (b[i] - sum1 - sum2)\n",
    "        newX.append(xi)\n",
    "    return np.array(newX)"
   ]
  },
  {
   "cell_type": "code",
   "execution_count": 71,
   "metadata": {},
   "outputs": [
    {
     "name": "stdout",
     "output_type": "stream",
     "text": [
      "iteration count: 8\n",
      "error: 3.1709448301467257e-07\n"
     ]
    }
   ],
   "source": [
    "xk, err, count = performIteration(A, b, x0, tol, gs)\n",
    "#print('solution vector GS:', xk)\n",
    "print('iteration count:', count)\n",
    "print('error:', err)"
   ]
  },
  {
   "cell_type": "code",
   "execution_count": 72,
   "metadata": {},
   "outputs": [],
   "source": [
    "def performIterationSOR(A, b, xk, w, tol):\n",
    "    iter_count = 0;\n",
    "    err = np.inf\n",
    "    while err > tol:\n",
    "        X_new = sor(A, b, xk, w)\n",
    "        err = np.linalg.norm((X_new - xk)) #error is difference between previous iteration!\n",
    "        iter_count = iter_count + 1\n",
    "        xk = X_new\n",
    "    return xk, err, iter_count"
   ]
  },
  {
   "cell_type": "code",
   "execution_count": 73,
   "metadata": {},
   "outputs": [],
   "source": [
    "def sor(A, b, xk, w):\n",
    "    newX = []\n",
    "    n = len(b)\n",
    "    for i in range(0, n):\n",
    "        sum1 = 0\n",
    "        sum2 = 0\n",
    "        for j in range(0, n):\n",
    "            if (j < i):\n",
    "                sum1= sum1 + A[i][j]*newX[j]\n",
    "            elif (j > i):\n",
    "                sum2 = sum2 + A[i][j]*xk[j]\n",
    "        xi = (1- w)*xk[i] + (w/(A[i][i]))* (b[i] - sum1 - sum2)\n",
    "        newX.append(xi)\n",
    "    return np.array(newX)"
   ]
  },
  {
   "cell_type": "code",
   "execution_count": 76,
   "metadata": {},
   "outputs": [
    {
     "name": "stdout",
     "output_type": "stream",
     "text": [
      "solution vector SOR w = 1.15:\n",
      " [[0.35835126]\n",
      " [0.38782762]\n",
      " [0.39025318]\n",
      " [0.39045275]\n",
      " [0.39046783]\n",
      " [0.39045275]\n",
      " [0.39025318]\n",
      " [0.38782762]\n",
      " [0.35835126]\n",
      " [0.36625265]\n",
      " [0.39696333]\n",
      " [0.39953754]\n",
      " [0.39975313]\n",
      " [0.39976967]\n",
      " [0.39975313]\n",
      " [0.39953754]\n",
      " [0.39696332]\n",
      " [0.36625265]\n",
      " [0.36642791]\n",
      " [0.39717781]\n",
      " [0.39975821]\n",
      " [0.39997463]\n",
      " [0.39999125]\n",
      " [0.39997463]\n",
      " [0.39975821]\n",
      " [0.39717781]\n",
      " [0.36642791]\n",
      " [0.36643182]\n",
      " [0.39718284]\n",
      " [0.39976345]\n",
      " [0.3999799 ]\n",
      " [0.39999653]\n",
      " [0.3999799 ]\n",
      " [0.39976345]\n",
      " [0.39718284]\n",
      " [0.36643182]\n",
      " [0.36643191]\n",
      " [0.39718295]\n",
      " [0.39976357]\n",
      " [0.39998002]\n",
      " [0.39999665]\n",
      " [0.39998003]\n",
      " [0.39976357]\n",
      " [0.39718295]\n",
      " [0.36643191]\n",
      " [0.36643182]\n",
      " [0.39718284]\n",
      " [0.39976345]\n",
      " [0.3999799 ]\n",
      " [0.39999653]\n",
      " [0.3999799 ]\n",
      " [0.39976345]\n",
      " [0.39718284]\n",
      " [0.36643182]\n",
      " [0.36642791]\n",
      " [0.39717781]\n",
      " [0.39975821]\n",
      " [0.39997463]\n",
      " [0.39999125]\n",
      " [0.39997463]\n",
      " [0.39975821]\n",
      " [0.39717781]\n",
      " [0.36642791]\n",
      " [0.36625265]\n",
      " [0.39696333]\n",
      " [0.39953754]\n",
      " [0.39975313]\n",
      " [0.39976968]\n",
      " [0.39975312]\n",
      " [0.39953755]\n",
      " [0.39696332]\n",
      " [0.36625265]\n",
      " [0.35835126]\n",
      " [0.38782762]\n",
      " [0.39025317]\n",
      " [0.39045276]\n",
      " [0.39046781]\n",
      " [0.39045276]\n",
      " [0.39025317]\n",
      " [0.38782762]\n",
      " [0.35835126]]\n",
      "iteration count: 10\n",
      "error: 2.835247385799328e-07\n"
     ]
    }
   ],
   "source": [
    "w = 1.15\n",
    "xk, err, count = performIterationSOR(A, b, x0, w, tol)\n",
    "#print('solution vector SOR w = 1.15:\\n', xk)\n",
    "print('iteration count:', count)\n",
    "print('error:', err)"
   ]
  },
  {
   "cell_type": "code",
   "execution_count": null,
   "metadata": {},
   "outputs": [],
   "source": []
  }
 ],
 "metadata": {
  "kernelspec": {
   "display_name": "Python 3",
   "language": "python",
   "name": "python3"
  },
  "language_info": {
   "codemirror_mode": {
    "name": "ipython",
    "version": 3
   },
   "file_extension": ".py",
   "mimetype": "text/x-python",
   "name": "python",
   "nbconvert_exporter": "python",
   "pygments_lexer": "ipython3",
   "version": "3.7.3"
  }
 },
 "nbformat": 4,
 "nbformat_minor": 2
}
